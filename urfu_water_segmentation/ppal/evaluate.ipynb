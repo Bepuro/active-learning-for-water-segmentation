{
 "cells": [
  {
   "cell_type": "code",
   "execution_count": null,
   "id": "582fb852",
   "metadata": {},
   "outputs": [],
   "source": []
  },
  {
   "cell_type": "code",
   "execution_count": 1,
   "id": "75912c39",
   "metadata": {},
   "outputs": [
    {
     "ename": "ModuleNotFoundError",
     "evalue": "No module named 'pandas'",
     "output_type": "error",
     "traceback": [
      "\u001b[0;31m---------------------------------------------------------------------------\u001b[0m",
      "\u001b[0;31mModuleNotFoundError\u001b[0m                       Traceback (most recent call last)",
      "Cell \u001b[0;32mIn[1], line 4\u001b[0m\n\u001b[1;32m      2\u001b[0m \u001b[38;5;28;01mimport\u001b[39;00m\u001b[38;5;250m \u001b[39m\u001b[38;5;21;01mmath\u001b[39;00m\n\u001b[1;32m      3\u001b[0m \u001b[38;5;28;01mimport\u001b[39;00m\u001b[38;5;250m \u001b[39m\u001b[38;5;21;01mos\u001b[39;00m\n\u001b[0;32m----> 4\u001b[0m \u001b[38;5;28;01mimport\u001b[39;00m\u001b[38;5;250m \u001b[39m\u001b[38;5;21;01mpandas\u001b[39;00m\u001b[38;5;250m \u001b[39m\u001b[38;5;28;01mas\u001b[39;00m\u001b[38;5;250m \u001b[39m\u001b[38;5;21;01mpd\u001b[39;00m\n\u001b[1;32m      5\u001b[0m \u001b[38;5;28;01mimport\u001b[39;00m\u001b[38;5;250m \u001b[39m\u001b[38;5;21;01mcv2\u001b[39;00m\n\u001b[1;32m      7\u001b[0m \u001b[38;5;28;01mfrom\u001b[39;00m\u001b[38;5;250m \u001b[39m\u001b[38;5;21;01mpathlib\u001b[39;00m\u001b[38;5;250m \u001b[39m\u001b[38;5;28;01mimport\u001b[39;00m Path\n",
      "\u001b[0;31mModuleNotFoundError\u001b[0m: No module named 'pandas'"
     ]
    }
   ],
   "source": [
    "import argparse\n",
    "import math\n",
    "import os\n",
    "import pandas as pd\n",
    "import cv2\n",
    "\n",
    "from pathlib import Path\n",
    "import matplotlib.pyplot as plt\n",
    "\n",
    "import numpy as np\n",
    "from PIL import Image\n",
    " \n",
    "from mmseg.apis import MMSegInferencer\n",
    "\n",
    "WATER_PIXEL_VALUE = 64\n",
    "BACKGROUND_CLASS_IDX = 0\n",
    "WATER_CLASS_IDX = 1\n",
    "\n",
    "PALETTE = [\n",
    "    [0, 0, 0],\n",
    "    [64, 64, 64],\n",
    "]\n",
    "\n",
    "landcover_path = Path('/misc/home1/m_imm_freedata/Segmentation/Projects/mmseg_water/landcover.ai_512')\n",
    "glh_water_path = Path('/misc/home1/m_imm_freedata/Segmentation/Projects/GLH_water/glh_cut_512_filtered')\n",
    "deepglobe_path = Path('/misc/home1/m_imm_freedata/Segmentation/DeepGlobe_Land/DeepGlobe512')\n",
    "loveda_path = Path('/misc/home1/m_imm_freedata/Segmentation/LoveDA')\n",
    "\n",
    "batch_size = 32\n",
    "\n",
    "# Для каждого датасета будет посчитаны свои метрики\n",
    "# Для датасетов нужно указать\n",
    "# - name - название датасета\n",
    "# - images - папка с изображениями из датасета, будут использованы все \n",
    "# - gt - папка с разметкой из датасета\n",
    "# ! Порядок изображений в images и в gt должен совпадать, а так же ожидается, что все изображения формата .tif\n",
    "datasets = [\n",
    "    {'name': 'landcover', 'images': landcover_path / 'val' / 'images', 'gt': landcover_path / 'val' / 'gt'},\n",
    "    {'name': 'glh_water', 'images': glh_water_path / 'val' / 'images', 'gt': glh_water_path / 'val' / 'gt'},\n",
    "    {'name': 'deepglobe', 'images': deepglobe_path / 'val' / 'images', 'gt': deepglobe_path / 'val' / 'gt'},\n",
    "    {'name': 'loveda', 'images': loveda_path / 'val' / 'images', 'gt': loveda_path / 'val' / 'gt'},\n",
    "]"
   ]
  },
  {
   "cell_type": "code",
   "execution_count": null,
   "id": "20d2646d",
   "metadata": {},
   "outputs": [],
   "source": []
  }
 ],
 "metadata": {
  "kernelspec": {
   "display_name": "Python 3",
   "language": "python",
   "name": "python3"
  },
  "language_info": {
   "codemirror_mode": {
    "name": "ipython",
    "version": 3
   },
   "file_extension": ".py",
   "mimetype": "text/x-python",
   "name": "python",
   "nbconvert_exporter": "python",
   "pygments_lexer": "ipython3",
   "version": "3.12.6"
  }
 },
 "nbformat": 4,
 "nbformat_minor": 5
}
